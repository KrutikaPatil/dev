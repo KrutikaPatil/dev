{
 "cells": [
  {
   "cell_type": "markdown",
   "id": "73c8e33c-235c-48eb-a1a3-e65d13db919f",
   "metadata": {},
   "source": [
    "## Implementing K Means Clustering"
   ]
  },
  {
   "cell_type": "code",
   "execution_count": null,
   "id": "7920cede-34f2-442f-8c0f-bd148bebb185",
   "metadata": {},
   "outputs": [],
   "source": [
    "from ucimlrepo import fetch_ucirepo \n",
    "  \n",
    "# fetch dataset \n",
    "estimation_of_obesity_levels_based_on_eating_habits_and_physical_condition = fetch_ucirepo(id=544) \n",
    "  \n",
    "# data (as pandas dataframes) \n",
    "X = estimation_of_obesity_levels_based_on_eating_habits_and_physical_condition.data.features \n",
    "y = estimation_of_obesity_levels_based_on_eating_habits_and_physical_condition.data.targets \n",
    "  \n",
    "# metadata \n",
    "estimation_of_obesity_levels_based_on_eating_habits_and_physical_condition.metadata"
   ]
  },
  {
   "cell_type": "code",
   "execution_count": null,
   "id": "18c87c0c-bf7b-4a9a-8811-45e3503e74bb",
   "metadata": {},
   "outputs": [],
   "source": [
    "# variable information \n",
    "estimation_of_obesity_levels_based_on_eating_habits_and_physical_condition.variables \n"
   ]
  },
  {
   "cell_type": "markdown",
   "id": "f7980e59-d64d-4822-afac-80e209f8c107",
   "metadata": {},
   "source": [
    "#### K means is distance based need to convert categorical to one hot"
   ]
  },
  {
   "cell_type": "code",
   "execution_count": null,
   "id": "dfbe7d93-c311-4301-a6a7-b025f144e1ae",
   "metadata": {},
   "outputs": [],
   "source": [
    "import pandas as pd\n",
    "X_cat = pd.get_dummies(X,columns=['Gender','CAEC','CALC','MTRANS'],drop_first=True)"
   ]
  },
  {
   "cell_type": "code",
   "execution_count": null,
   "id": "f636f101-2172-4343-aa55-01ee948eee52",
   "metadata": {},
   "outputs": [],
   "source": [
    "X_cat.columns"
   ]
  },
  {
   "cell_type": "code",
   "execution_count": null,
   "id": "201a43e5-8c7e-4121-a1a1-002e8b67beb5",
   "metadata": {},
   "outputs": [],
   "source": [
    "for col in X_cat.select_dtypes(include='object'):\n",
    "    print(f\"\\nColumn: {col}\")\n",
    "    print(X_cat[col].value_counts())\n"
   ]
  },
  {
   "cell_type": "code",
   "execution_count": null,
   "id": "af0433f4-7534-41d7-9908-6dae5726f384",
   "metadata": {},
   "outputs": [],
   "source": [
    "yes_no_cols = ['family_history_with_overweight', 'FAVC', 'SMOKE', 'SCC']\n",
    "X_cat[yes_no_cols] = X_cat[yes_no_cols].replace({'yes': 1, 'no': 0})\n",
    "bool_cols = X_cat.select_dtypes(include='bool').columns\n",
    "X_cat[bool_cols] = X_cat[bool_cols].astype(int)\n",
    "X_cat.dtypes"
   ]
  },
  {
   "cell_type": "code",
   "execution_count": null,
   "id": "0dc0bda7-4ace-4815-b6c1-fa0844cffaa1",
   "metadata": {},
   "outputs": [],
   "source": [
    "from sklearn.model_selection import train_test_split\n",
    "from sklearn.preprocessing import StandardScaler\n",
    "\n",
    "X_train, X_test, y_train, y_test = train_test_split(\n",
    "    X_cat, y, test_size=0.2, random_state=42, stratify=y\n",
    ")\n",
    "scaler = StandardScaler()\n",
    "X_train_scaled = scaler.fit_transform(X_train)\n",
    "X_test_scaled = scaler.transform(X_test)\n"
   ]
  },
  {
   "cell_type": "code",
   "execution_count": null,
   "id": "ce6e796a-49f4-4e23-92a8-02f5a4db8b35",
   "metadata": {},
   "outputs": [],
   "source": [
    "X_train.columns"
   ]
  },
  {
   "cell_type": "code",
   "execution_count": null,
   "id": "53415c00-14e9-4c08-a8b2-e9f10ec37e36",
   "metadata": {},
   "outputs": [],
   "source": [
    "y.value_counts()"
   ]
  },
  {
   "cell_type": "markdown",
   "id": "02ca4bba-d00f-4a6e-b12a-b8e307256d34",
   "metadata": {},
   "source": [
    "### Clustering using sklearn"
   ]
  },
  {
   "cell_type": "code",
   "execution_count": null,
   "id": "ae1d2514-29bf-4539-a2b0-4215c631e789",
   "metadata": {},
   "outputs": [],
   "source": [
    "import numpy as np\n",
    "import pandas as pd\n",
    "from sklearn.cluster import KMeans\n",
    "from sklearn.metrics import adjusted_rand_score, adjusted_mutual_info_score, silhouette_score\n",
    "from sklearn.preprocessing import StandardScaler\n"
   ]
  },
  {
   "cell_type": "code",
   "execution_count": null,
   "id": "dde9a04c-0cfe-40f4-bfc6-661e1690e51e",
   "metadata": {},
   "outputs": [],
   "source": [
    "kmeans = KMeans(n_clusters=7, random_state=42, n_init=10)\n",
    "kmeans.fit(X_train_scaled)\n"
   ]
  },
  {
   "cell_type": "code",
   "execution_count": null,
   "id": "ab7cdb4d-3497-484c-924d-92938b1e77ea",
   "metadata": {},
   "outputs": [],
   "source": [
    "y_train_pred = kmeans.predict(X_train_scaled)\n",
    "y_test_pred = kmeans.predict(X_test_scaled)"
   ]
  },
  {
   "cell_type": "code",
   "execution_count": null,
   "id": "3da7ffd2-d93b-45f4-bf4b-1f98d231a37f",
   "metadata": {},
   "outputs": [],
   "source": [
    "X_train.columns"
   ]
  },
  {
   "cell_type": "code",
   "execution_count": null,
   "id": "d788e262-82fd-40ac-b530-43630cd7b695",
   "metadata": {},
   "outputs": [],
   "source": [
    "import pandas as pd\n",
    "\n",
    "y_train_pred_series = pd.Series(y_train_pred)\n",
    "y_train_pred_series.value_counts()\n"
   ]
  },
  {
   "cell_type": "markdown",
   "id": "ae9c5fe3-0b21-4453-af34-820de34655d5",
   "metadata": {},
   "source": [
    "##### why does sklearns silhouette score take as input y , it should be an unsupervised metric ?"
   ]
  },
  {
   "cell_type": "code",
   "execution_count": null,
   "id": "5c6f9687-1e3b-4aad-a2de-d7285c50d9f6",
   "metadata": {},
   "outputs": [],
   "source": [
    "print(\"Silhouette Score (train):\", silhouette_score(X_train_scaled, y_train_pred))"
   ]
  },
  {
   "cell_type": "code",
   "execution_count": null,
   "id": "cd92913d-852e-492c-af84-378e43930849",
   "metadata": {},
   "outputs": [],
   "source": [
    "print(\"Silhouette Score (train):\", silhouette_score(X_test_scaled, y_test_pred))"
   ]
  },
  {
   "cell_type": "code",
   "execution_count": null,
   "id": "4c1e0d7f-d0c2-45b3-8584-e6be20dd037b",
   "metadata": {},
   "outputs": [],
   "source": [
    "y_train_flat = np.ravel(y_train)\n",
    "y_test_flat = np.ravel(y_test)"
   ]
  },
  {
   "cell_type": "code",
   "execution_count": null,
   "id": "59c7fcce-c0e2-4ce8-887d-48c73a653202",
   "metadata": {},
   "outputs": [],
   "source": [
    "print(\"Adjusted Rand Index (train):\", adjusted_rand_score(y_train_flat, y_train_pred))\n",
    "print(\"Adjusted Mutual Info (train):\", adjusted_mutual_info_score(y_train_flat, y_train_pred))\n",
    "print(\"Adjusted Rand Index (test):\", adjusted_rand_score(y_test_flat, y_test_pred))\n",
    "print(\"Adjusted Mutual Info (test):\", adjusted_mutual_info_score(y_test_flat, y_test_pred))\n"
   ]
  },
  {
   "cell_type": "code",
   "execution_count": null,
   "id": "8ae3549f-faf6-4e22-9477-bef75a04d630",
   "metadata": {},
   "outputs": [],
   "source": [
    "import pandas as pd\n",
    "\n",
    "# y_train_flat = true labels (1D), y_train_pred = K-Means cluster assignments\n",
    "cluster_vs_label = pd.crosstab(y_train_flat, y_train_pred, rownames=['True Class'], colnames=['Cluster'])\n",
    "print(cluster_vs_label)\n"
   ]
  },
  {
   "cell_type": "code",
   "execution_count": null,
   "id": "ff88c95d-b085-4e37-971b-eb09f0b9696d",
   "metadata": {},
   "outputs": [],
   "source": [
    "cluster_vs_label_norm = cluster_vs_label.div(cluster_vs_label.sum(axis=1), axis=0)\n",
    "import seaborn as sns\n",
    "import matplotlib.pyplot as plt\n",
    "\n",
    "plt.figure(figsize=(10,6))\n",
    "sns.heatmap(cluster_vs_label_norm, annot=True, cmap='Blues', fmt='.2f')\n",
    "plt.title(\"Proportion of True Classes in K-Means Clusters\")\n",
    "plt.show()\n"
   ]
  },
  {
   "cell_type": "markdown",
   "id": "916d2f5c-cf1a-4a43-993f-d615d6abda51",
   "metadata": {},
   "source": [
    "### Implementation from scratch"
   ]
  },
  {
   "cell_type": "markdown",
   "id": "9f8422d6-4c4b-4236-b2f1-999d940b42d3",
   "metadata": {},
   "source": [
    "##### We have X_train_scaled, X_test_scaled need y_train_pred and y_test_pred"
   ]
  },
  {
   "cell_type": "code",
   "execution_count": null,
   "id": "8bbf80d8-6713-4002-ba32-4166772c9720",
   "metadata": {},
   "outputs": [],
   "source": [
    "K = 7\n",
    "n_samples_train, n_features = X_train_scaled.shape\n"
   ]
  },
  {
   "cell_type": "code",
   "execution_count": null,
   "id": "4e2d3e6e-11f8-4030-9331-e8c3634932c3",
   "metadata": {},
   "outputs": [],
   "source": [
    "n_features\n"
   ]
  },
  {
   "cell_type": "code",
   "execution_count": null,
   "id": "1a95f731-8730-4e6d-a606-d0d6f9ae5b65",
   "metadata": {},
   "outputs": [],
   "source": [
    "X_train.describe()"
   ]
  },
  {
   "cell_type": "code",
   "execution_count": null,
   "id": "850eb217-cc4d-4795-8f33-ba022fdbe05d",
   "metadata": {},
   "outputs": [],
   "source": [
    "# Column-wise mean\n",
    "arr = X_train_scaled\n",
    "col_means = np.mean(arr, axis=0)\n",
    "print(\"Column means:\", col_means)\n",
    "\n",
    "# Column-wise standard deviation\n",
    "col_stds = np.std(arr, axis=0, ddof=1)  # population std\n",
    "print(\"Column stds:\", col_stds)"
   ]
  },
  {
   "cell_type": "code",
   "execution_count": null,
   "id": "8916d1cf-5edf-4631-aeac-7281d646d37a",
   "metadata": {},
   "outputs": [],
   "source": [
    "## randomly initialized centroids\n",
    "centroids = np.random.randn(K, n_features)"
   ]
  },
  {
   "cell_type": "code",
   "execution_count": null,
   "id": "8528b367-641e-4d12-89df-7e071b587dda",
   "metadata": {},
   "outputs": [],
   "source": [
    "centroids # 7 X 23"
   ]
  },
  {
   "cell_type": "code",
   "execution_count": null,
   "id": "766e099d-2984-4ef0-ae13-33ccb0b110b2",
   "metadata": {},
   "outputs": [],
   "source": [
    "D = np.ones((n_samples_train, K))*np.inf\n",
    "for i in range(n_samples_train):\n",
    "    x = X_train_scaled[i:]\n",
    "    for j in range(centroids.shape[0]):\n",
    "        D[i,j]= np.linalg.norm(x-centroids[j])"
   ]
  },
  {
   "cell_type": "code",
   "execution_count": null,
   "id": "7da385aa-9ef3-4a6d-9754-85c151d0263a",
   "metadata": {},
   "outputs": [],
   "source": [
    "#y_train_pred = np.ones((n_samples_train,1))\n",
    "y_train_pred = np.argmin(D, axis = 1 )\n",
    "print(y_train_pred.shape)\n",
    "        "
   ]
  },
  {
   "cell_type": "code",
   "execution_count": null,
   "id": "12bcdb96-af15-4a86-bc2f-52a136677da1",
   "metadata": {},
   "outputs": [],
   "source": [
    "pd.DataFrame(y_train_pred).value_counts()"
   ]
  },
  {
   "cell_type": "code",
   "execution_count": null,
   "id": "1193f395-d347-4e60-b0e7-5c7a545fdd56",
   "metadata": {},
   "outputs": [],
   "source": [
    "print(\"Silhouette Score (train):\", silhouette_score(X_train_scaled, y_train_pred))"
   ]
  },
  {
   "cell_type": "markdown",
   "id": "2bb085ab-9b84-44fe-8e7a-8b6fdedfd204",
   "metadata": {},
   "source": [
    "### Data needs preprocessing all means are close to zero and stds to 1 all datapoints are close to only 1 point x = 0 vector"
   ]
  },
  {
   "cell_type": "code",
   "execution_count": null,
   "id": "0351031e-8280-4507-b3e4-a42fcc80b155",
   "metadata": {},
   "outputs": [],
   "source": [
    "X_train.describe(include='all')"
   ]
  },
  {
   "cell_type": "code",
   "execution_count": null,
   "id": "7c340f2d-43f7-41b3-8944-680d3a53e253",
   "metadata": {},
   "outputs": [],
   "source": [
    "X.dtypes"
   ]
  },
  {
   "cell_type": "code",
   "execution_count": null,
   "id": "8257eba2-163c-457e-8f95-a32c9dd9b40b",
   "metadata": {},
   "outputs": [],
   "source": [
    "X_cat = pd.get_dummies(X,columns=['Gender','CAEC','CALC','MTRANS'],drop_first=True)\n",
    "yes_no_cols = ['family_history_with_overweight', 'FAVC', 'SMOKE', 'SCC']\n",
    "X_cat[yes_no_cols] = X_cat[yes_no_cols].replace({'yes': 1, 'no': 0})\n",
    "bool_cols = X_cat.select_dtypes(include='bool').columns\n",
    "X_cat[bool_cols] = X_cat[bool_cols].astype(int)\n",
    "# list othre continuous columns that might need scaling\n",
    "\n",
    "cols_to_scale = ['Age','Weight','Height','FCVC','NCP','CH2O','FAF','TUE']\n",
    "\n",
    "X_cat.describe()"
   ]
  },
  {
   "cell_type": "code",
   "execution_count": null,
   "id": "07725ceb-b928-4b3f-9fdf-c84192e0b86f",
   "metadata": {},
   "outputs": [],
   "source": [
    "# Devide X_cat into train, test. \n",
    "from sklearn.preprocessing import StandardScaler\n",
    "\n",
    "X_train, X_test, y_train, y_test = train_test_split(\n",
    "    X_cat, y, test_size=0.2, random_state=42, stratify=y\n",
    ")"
   ]
  },
  {
   "cell_type": "code",
   "execution_count": null,
   "id": "25a767e7-ce86-43c6-b4d3-4705220e920a",
   "metadata": {},
   "outputs": [],
   "source": [
    "scaler = StandardScaler()\n",
    "train_scaled = scaler.fit_transform(X_train[cols_to_scale])\n",
    "test_scaled = scaler.transform(X_test[cols_to_scale])\n",
    "\n",
    "# use standard scaler on the chosen subset of columns"
   ]
  },
  {
   "cell_type": "code",
   "execution_count": null,
   "id": "bcea130a-514f-4c91-9753-48194e5d16cc",
   "metadata": {},
   "outputs": [],
   "source": [
    "type(X_train)"
   ]
  },
  {
   "cell_type": "code",
   "execution_count": null,
   "id": "e202b366-e097-429b-88a0-bf3c4850ac3d",
   "metadata": {},
   "outputs": [],
   "source": [
    "type(train_scaled)"
   ]
  },
  {
   "cell_type": "code",
   "execution_count": null,
   "id": "d0162032-7374-48e6-ae63-df92546f8f49",
   "metadata": {},
   "outputs": [],
   "source": [
    "# 1️⃣ Copy the DataFrame (optional)\n",
    "X_train_scaled = X_train.copy()\n",
    "\n",
    "# 2️⃣ Apply StandardScaler\n",
    "scaler = StandardScaler()\n",
    "X_train_scaled[cols_to_scale] = scaler.fit_transform(X_train_scaled[cols_to_scale])\n",
    "\n",
    "# 3️⃣ Convert whole DataFrame to NumPy array\n",
    "X_train_scaled_array = X_train_scaled.values\n",
    "\n",
    "print(\"Scaled DataFrame as array:\\n\", X_train_scaled_array)"
   ]
  },
  {
   "cell_type": "code",
   "execution_count": null,
   "id": "68dd1362-f267-4c25-9939-b5caf2416d93",
   "metadata": {},
   "outputs": [],
   "source": [
    "X_test_scaled = X_test.copy()\n",
    "X_test_scaled[cols_to_scale] = scaler.transform(X_test_scaled[cols_to_scale])\n",
    "X_test_scaled_array = X_test_scaled.values"
   ]
  },
  {
   "cell_type": "code",
   "execution_count": null,
   "id": "520e8027-d6d2-4c74-b56a-d6ce3654617e",
   "metadata": {},
   "outputs": [],
   "source": [
    "type((X_test_scaled_array))"
   ]
  },
  {
   "cell_type": "markdown",
   "id": "bbce4159-ba2c-4c82-8416-cd869f43b586",
   "metadata": {},
   "source": [
    "## tSNE"
   ]
  },
  {
   "cell_type": "code",
   "execution_count": null,
   "id": "9d4209f0-1910-4a92-8f17-1ce51634c79c",
   "metadata": {},
   "outputs": [],
   "source": [
    "import numpy as np\n",
    "import matplotlib.pyplot as plt\n",
    "from sklearn.manifold import TSNE\n"
   ]
  },
  {
   "cell_type": "code",
   "execution_count": null,
   "id": "d447cab2-2ca8-45ec-8464-cde99139eb2c",
   "metadata": {},
   "outputs": [],
   "source": [
    "tsne = TSNE(n_components=2, random_state=42)\n",
    "X_tsne = tsne.fit_transform(X_train_scaled_array)  # shape -> (n_samples, 2)\n"
   ]
  },
  {
   "cell_type": "code",
   "execution_count": null,
   "id": "6c9985c3-29b9-4fa0-a02f-7eaeff7088d0",
   "metadata": {},
   "outputs": [],
   "source": [
    "plt.figure(figsize=(8,6))\n",
    "scatter = plt.scatter(X_tsne[:,0], X_tsne[:,1], cmap='viridis', s=50)\n",
    "plt.xlabel(\"t-SNE 1\")\n",
    "plt.ylabel(\"t-SNE 2\")\n",
    "plt.title(\"t-SNE visualization\")\n",
    "\n",
    "# Add legend if you have labels\n",
    "plt.legend(*scatter.legend_elements(), title=\"Classes\")\n",
    "plt.show()\n"
   ]
  },
  {
   "cell_type": "code",
   "execution_count": null,
   "id": "010196fb-d195-4777-bd68-460debd2ee89",
   "metadata": {},
   "outputs": [],
   "source": []
  }
 ],
 "metadata": {
  "kernelspec": {
   "display_name": "Python 3 (ipykernel)",
   "language": "python",
   "name": "python3"
  },
  "language_info": {
   "codemirror_mode": {
    "name": "ipython",
    "version": 3
   },
   "file_extension": ".py",
   "mimetype": "text/x-python",
   "name": "python",
   "nbconvert_exporter": "python",
   "pygments_lexer": "ipython3",
   "version": "3.10.12"
  }
 },
 "nbformat": 4,
 "nbformat_minor": 5
}
