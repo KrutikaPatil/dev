{
 "cells": [
  {
   "cell_type": "markdown",
   "id": "73c8e33c-235c-48eb-a1a3-e65d13db919f",
   "metadata": {},
   "source": [
    "## Implementing K Means Clustering"
   ]
  },
  {
   "cell_type": "code",
   "execution_count": 2,
   "id": "7920cede-34f2-442f-8c0f-bd148bebb185",
   "metadata": {},
   "outputs": [
    {
     "data": {
      "text/plain": [
       "{'uci_id': 544,\n",
       " 'name': 'Estimation of Obesity Levels Based On Eating Habits and Physical Condition ',\n",
       " 'repository_url': 'https://archive.ics.uci.edu/dataset/544/estimation+of+obesity+levels+based+on+eating+habits+and+physical+condition',\n",
       " 'data_url': 'https://archive.ics.uci.edu/static/public/544/data.csv',\n",
       " 'abstract': 'This dataset include data for the estimation of obesity levels in individuals from the countries of Mexico, Peru and Colombia, based on their eating habits and physical condition. ',\n",
       " 'area': 'Health and Medicine',\n",
       " 'tasks': ['Classification', 'Regression', 'Clustering'],\n",
       " 'characteristics': ['Multivariate'],\n",
       " 'num_instances': 2111,\n",
       " 'num_features': 16,\n",
       " 'feature_types': ['Integer'],\n",
       " 'demographics': ['Gender', 'Age'],\n",
       " 'target_col': ['NObeyesdad'],\n",
       " 'index_col': None,\n",
       " 'has_missing_values': 'no',\n",
       " 'missing_values_symbol': None,\n",
       " 'year_of_dataset_creation': 2019,\n",
       " 'last_updated': 'Tue Sep 10 2024',\n",
       " 'dataset_doi': '10.24432/C5H31Z',\n",
       " 'creators': [],\n",
       " 'intro_paper': {'ID': 358,\n",
       "  'type': 'NATIVE',\n",
       "  'title': 'Dataset for estimation of obesity levels based on eating habits and physical condition in individuals from Colombia, Peru and Mexico',\n",
       "  'authors': 'Fabio Mendoza Palechor, Alexis De la Hoz Manotas',\n",
       "  'venue': 'Data in Brief',\n",
       "  'year': 2019,\n",
       "  'journal': None,\n",
       "  'DOI': '10.1016/j.dib.2019.104344',\n",
       "  'URL': 'https://www.semanticscholar.org/paper/35b40bacd2ffa9370885b7a3004d88995fd1d011',\n",
       "  'sha': None,\n",
       "  'corpus': None,\n",
       "  'arxiv': None,\n",
       "  'mag': None,\n",
       "  'acl': None,\n",
       "  'pmid': None,\n",
       "  'pmcid': None},\n",
       " 'additional_info': {'summary': 'This dataset include data for the estimation of obesity levels in individuals from the countries of Mexico, Peru and Colombia, based on their eating habits and physical condition. The data contains 17 attributes and 2111 records, the records are labeled with the class variable NObesity (Obesity Level), that allows classification of the data using the values of Insufficient Weight, Normal Weight, Overweight Level I, Overweight Level II, Obesity Type I, Obesity Type II and Obesity Type III. 77% of the data was generated synthetically using the Weka tool and the SMOTE filter, 23% of the data was collected directly from users through a web platform.',\n",
       "  'purpose': None,\n",
       "  'funded_by': None,\n",
       "  'instances_represent': None,\n",
       "  'recommended_data_splits': None,\n",
       "  'sensitive_data': None,\n",
       "  'preprocessing_description': None,\n",
       "  'variable_info': 'Read the article (https://doi.org/10.1016/j.dib.2019.104344) to see the description of the attributes.',\n",
       "  'citation': None}}"
      ]
     },
     "execution_count": 2,
     "metadata": {},
     "output_type": "execute_result"
    }
   ],
   "source": [
    "from ucimlrepo import fetch_ucirepo \n",
    "  \n",
    "# fetch dataset \n",
    "estimation_of_obesity_levels_based_on_eating_habits_and_physical_condition = fetch_ucirepo(id=544) \n",
    "  \n",
    "# data (as pandas dataframes) \n",
    "X = estimation_of_obesity_levels_based_on_eating_habits_and_physical_condition.data.features \n",
    "y = estimation_of_obesity_levels_based_on_eating_habits_and_physical_condition.data.targets \n",
    "  \n",
    "# metadata \n",
    "estimation_of_obesity_levels_based_on_eating_habits_and_physical_condition.metadata"
   ]
  },
  {
   "cell_type": "code",
   "execution_count": 3,
   "id": "18c87c0c-bf7b-4a9a-8811-45e3503e74bb",
   "metadata": {},
   "outputs": [
    {
     "name": "stdout",
     "output_type": "stream",
     "text": [
      "                              name     role         type demographic  \\\n",
      "0                           Gender  Feature  Categorical      Gender   \n",
      "1                              Age  Feature   Continuous         Age   \n",
      "2                           Height  Feature   Continuous        None   \n",
      "3                           Weight  Feature   Continuous        None   \n",
      "4   family_history_with_overweight  Feature       Binary        None   \n",
      "5                             FAVC  Feature       Binary        None   \n",
      "6                             FCVC  Feature      Integer        None   \n",
      "7                              NCP  Feature   Continuous        None   \n",
      "8                             CAEC  Feature  Categorical        None   \n",
      "9                            SMOKE  Feature       Binary        None   \n",
      "10                            CH2O  Feature   Continuous        None   \n",
      "11                             SCC  Feature       Binary        None   \n",
      "12                             FAF  Feature   Continuous        None   \n",
      "13                             TUE  Feature      Integer        None   \n",
      "14                            CALC  Feature  Categorical        None   \n",
      "15                          MTRANS  Feature  Categorical        None   \n",
      "16                      NObeyesdad   Target  Categorical        None   \n",
      "\n",
      "                                          description units missing_values  \n",
      "0                                                None  None             no  \n",
      "1                                                None  None             no  \n",
      "2                                                None  None             no  \n",
      "3                                                None  None             no  \n",
      "4   Has a family member suffered or suffers from o...  None             no  \n",
      "5            Do you eat high caloric food frequently?  None             no  \n",
      "6        Do you usually eat vegetables in your meals?  None             no  \n",
      "7              How many main meals do you have daily?  None             no  \n",
      "8                  Do you eat any food between meals?  None             no  \n",
      "9                                       Do you smoke?  None             no  \n",
      "10                 How much water do you drink daily?  None             no  \n",
      "11         Do you monitor the calories you eat daily?  None             no  \n",
      "12           How often do you have physical activity?  None             no  \n",
      "13  How much time do you use technological devices...  None             no  \n",
      "14                    How often do you drink alcohol?  None             no  \n",
      "15           Which transportation do you usually use?  None             no  \n",
      "16                                      Obesity level  None             no  \n"
     ]
    }
   ],
   "source": [
    "# variable information \n",
    "print(estimation_of_obesity_levels_based_on_eating_habits_and_physical_condition.variables) \n"
   ]
  },
  {
   "cell_type": "code",
   "execution_count": null,
   "id": "405e8192-a734-411a-ae21-b53402dfaf6f",
   "metadata": {},
   "outputs": [],
   "source": []
  }
 ],
 "metadata": {
  "kernelspec": {
   "display_name": "Python 3 (ipykernel)",
   "language": "python",
   "name": "python3"
  },
  "language_info": {
   "codemirror_mode": {
    "name": "ipython",
    "version": 3
   },
   "file_extension": ".py",
   "mimetype": "text/x-python",
   "name": "python",
   "nbconvert_exporter": "python",
   "pygments_lexer": "ipython3",
   "version": "3.10.12"
  }
 },
 "nbformat": 4,
 "nbformat_minor": 5
}
