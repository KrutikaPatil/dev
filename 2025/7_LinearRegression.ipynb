{
 "cells": [
  {
   "cell_type": "markdown",
   "id": "1c0baf70-cce1-4859-a138-90a8b980e1a9",
   "metadata": {},
   "source": [
    "# Implementing Linear Regression"
   ]
  },
  {
   "cell_type": "code",
   "execution_count": 15,
   "id": "0a175809-d590-4910-9ebd-92ac57eed0a0",
   "metadata": {},
   "outputs": [
    {
     "data": {
      "text/plain": [
       "{'uci_id': 9,\n",
       " 'name': 'Auto MPG',\n",
       " 'repository_url': 'https://archive.ics.uci.edu/dataset/9/auto+mpg',\n",
       " 'data_url': 'https://archive.ics.uci.edu/static/public/9/data.csv',\n",
       " 'abstract': 'Revised from CMU StatLib library, data concerns city-cycle fuel consumption',\n",
       " 'area': 'Other',\n",
       " 'tasks': ['Regression'],\n",
       " 'characteristics': ['Multivariate'],\n",
       " 'num_instances': 398,\n",
       " 'num_features': 7,\n",
       " 'feature_types': ['Real', 'Categorical', 'Integer'],\n",
       " 'demographics': [],\n",
       " 'target_col': ['mpg'],\n",
       " 'index_col': ['car_name'],\n",
       " 'has_missing_values': 'yes',\n",
       " 'missing_values_symbol': 'NaN',\n",
       " 'year_of_dataset_creation': 1993,\n",
       " 'last_updated': 'Thu Aug 10 2023',\n",
       " 'dataset_doi': '10.24432/C5859H',\n",
       " 'creators': ['R. Quinlan'],\n",
       " 'intro_paper': None,\n",
       " 'additional_info': {'summary': 'This dataset is a slightly modified version of the dataset provided in the StatLib library.  In line with the use by Ross Quinlan (1993) in predicting the attribute \"mpg\", 8 of the original instances were removed because they had unknown values for the \"mpg\" attribute.  The original dataset is available in the file \"auto-mpg.data-original\".\\r\\n\\r\\n\"The data concerns city-cycle fuel consumption in miles per gallon, to be predicted in terms of 3 multivalued discrete and 5 continuous attributes.\" (Quinlan, 1993)',\n",
       "  'purpose': None,\n",
       "  'funded_by': None,\n",
       "  'instances_represent': None,\n",
       "  'recommended_data_splits': None,\n",
       "  'sensitive_data': None,\n",
       "  'preprocessing_description': None,\n",
       "  'variable_info': '    1. mpg:           continuous\\r\\n    2. cylinders:     multi-valued discrete\\r\\n    3. displacement:  continuous\\r\\n    4. horsepower:    continuous\\r\\n    5. weight:        continuous\\r\\n    6. acceleration:  continuous\\r\\n    7. model year:    multi-valued discrete\\r\\n    8. origin:        multi-valued discrete\\r\\n    9. car name:      string (unique for each instance)',\n",
       "  'citation': None}}"
      ]
     },
     "execution_count": 15,
     "metadata": {},
     "output_type": "execute_result"
    }
   ],
   "source": [
    "from ucimlrepo import fetch_ucirepo \n",
    "  \n",
    "# fetch dataset \n",
    "auto_mpg = fetch_ucirepo(id=9) \n",
    "  \n",
    "# data (as pandas dataframes) \n",
    "X = auto_mpg.data.features \n",
    "y = auto_mpg.data.targets \n",
    "  \n",
    "# metadata \n",
    "auto_mpg.metadata"
   ]
  },
  {
   "cell_type": "code",
   "execution_count": 16,
   "id": "fdc0a15b-d065-4fcb-8e56-f5b3546fae68",
   "metadata": {},
   "outputs": [
    {
     "data": {
      "text/html": [
       "<div>\n",
       "<style scoped>\n",
       "    .dataframe tbody tr th:only-of-type {\n",
       "        vertical-align: middle;\n",
       "    }\n",
       "\n",
       "    .dataframe tbody tr th {\n",
       "        vertical-align: top;\n",
       "    }\n",
       "\n",
       "    .dataframe thead th {\n",
       "        text-align: right;\n",
       "    }\n",
       "</style>\n",
       "<table border=\"1\" class=\"dataframe\">\n",
       "  <thead>\n",
       "    <tr style=\"text-align: right;\">\n",
       "      <th></th>\n",
       "      <th>name</th>\n",
       "      <th>role</th>\n",
       "      <th>type</th>\n",
       "      <th>demographic</th>\n",
       "      <th>description</th>\n",
       "      <th>units</th>\n",
       "      <th>missing_values</th>\n",
       "    </tr>\n",
       "  </thead>\n",
       "  <tbody>\n",
       "    <tr>\n",
       "      <th>0</th>\n",
       "      <td>displacement</td>\n",
       "      <td>Feature</td>\n",
       "      <td>Continuous</td>\n",
       "      <td>None</td>\n",
       "      <td>None</td>\n",
       "      <td>None</td>\n",
       "      <td>no</td>\n",
       "    </tr>\n",
       "    <tr>\n",
       "      <th>1</th>\n",
       "      <td>mpg</td>\n",
       "      <td>Target</td>\n",
       "      <td>Continuous</td>\n",
       "      <td>None</td>\n",
       "      <td>None</td>\n",
       "      <td>None</td>\n",
       "      <td>no</td>\n",
       "    </tr>\n",
       "    <tr>\n",
       "      <th>2</th>\n",
       "      <td>cylinders</td>\n",
       "      <td>Feature</td>\n",
       "      <td>Integer</td>\n",
       "      <td>None</td>\n",
       "      <td>None</td>\n",
       "      <td>None</td>\n",
       "      <td>no</td>\n",
       "    </tr>\n",
       "    <tr>\n",
       "      <th>3</th>\n",
       "      <td>horsepower</td>\n",
       "      <td>Feature</td>\n",
       "      <td>Continuous</td>\n",
       "      <td>None</td>\n",
       "      <td>None</td>\n",
       "      <td>None</td>\n",
       "      <td>yes</td>\n",
       "    </tr>\n",
       "    <tr>\n",
       "      <th>4</th>\n",
       "      <td>weight</td>\n",
       "      <td>Feature</td>\n",
       "      <td>Continuous</td>\n",
       "      <td>None</td>\n",
       "      <td>None</td>\n",
       "      <td>None</td>\n",
       "      <td>no</td>\n",
       "    </tr>\n",
       "    <tr>\n",
       "      <th>5</th>\n",
       "      <td>acceleration</td>\n",
       "      <td>Feature</td>\n",
       "      <td>Continuous</td>\n",
       "      <td>None</td>\n",
       "      <td>None</td>\n",
       "      <td>None</td>\n",
       "      <td>no</td>\n",
       "    </tr>\n",
       "    <tr>\n",
       "      <th>6</th>\n",
       "      <td>model_year</td>\n",
       "      <td>Feature</td>\n",
       "      <td>Integer</td>\n",
       "      <td>None</td>\n",
       "      <td>None</td>\n",
       "      <td>None</td>\n",
       "      <td>no</td>\n",
       "    </tr>\n",
       "    <tr>\n",
       "      <th>7</th>\n",
       "      <td>origin</td>\n",
       "      <td>Feature</td>\n",
       "      <td>Integer</td>\n",
       "      <td>None</td>\n",
       "      <td>None</td>\n",
       "      <td>None</td>\n",
       "      <td>no</td>\n",
       "    </tr>\n",
       "    <tr>\n",
       "      <th>8</th>\n",
       "      <td>car_name</td>\n",
       "      <td>ID</td>\n",
       "      <td>Categorical</td>\n",
       "      <td>None</td>\n",
       "      <td>None</td>\n",
       "      <td>None</td>\n",
       "      <td>no</td>\n",
       "    </tr>\n",
       "  </tbody>\n",
       "</table>\n",
       "</div>"
      ],
      "text/plain": [
       "           name     role         type demographic description units  \\\n",
       "0  displacement  Feature   Continuous        None        None  None   \n",
       "1           mpg   Target   Continuous        None        None  None   \n",
       "2     cylinders  Feature      Integer        None        None  None   \n",
       "3    horsepower  Feature   Continuous        None        None  None   \n",
       "4        weight  Feature   Continuous        None        None  None   \n",
       "5  acceleration  Feature   Continuous        None        None  None   \n",
       "6    model_year  Feature      Integer        None        None  None   \n",
       "7        origin  Feature      Integer        None        None  None   \n",
       "8      car_name       ID  Categorical        None        None  None   \n",
       "\n",
       "  missing_values  \n",
       "0             no  \n",
       "1             no  \n",
       "2             no  \n",
       "3            yes  \n",
       "4             no  \n",
       "5             no  \n",
       "6             no  \n",
       "7             no  \n",
       "8             no  "
      ]
     },
     "execution_count": 16,
     "metadata": {},
     "output_type": "execute_result"
    }
   ],
   "source": [
    "# variable information \n",
    "auto_mpg.variables\n"
   ]
  },
  {
   "cell_type": "code",
   "execution_count": 17,
   "id": "7e4d602d-4a0b-4462-832b-e1fad7c4933e",
   "metadata": {},
   "outputs": [
    {
     "data": {
      "text/plain": [
       "(398, 7)"
      ]
     },
     "execution_count": 17,
     "metadata": {},
     "output_type": "execute_result"
    }
   ],
   "source": [
    "X.shape"
   ]
  },
  {
   "cell_type": "code",
   "execution_count": 22,
   "id": "d7a61936-fa0f-4608-b3a8-0b22fcf18df1",
   "metadata": {},
   "outputs": [
    {
     "data": {
      "text/html": [
       "<div>\n",
       "<style scoped>\n",
       "    .dataframe tbody tr th:only-of-type {\n",
       "        vertical-align: middle;\n",
       "    }\n",
       "\n",
       "    .dataframe tbody tr th {\n",
       "        vertical-align: top;\n",
       "    }\n",
       "\n",
       "    .dataframe thead th {\n",
       "        text-align: right;\n",
       "    }\n",
       "</style>\n",
       "<table border=\"1\" class=\"dataframe\">\n",
       "  <thead>\n",
       "    <tr style=\"text-align: right;\">\n",
       "      <th></th>\n",
       "      <th>displacement</th>\n",
       "      <th>cylinders</th>\n",
       "      <th>horsepower</th>\n",
       "      <th>weight</th>\n",
       "      <th>acceleration</th>\n",
       "      <th>model_year</th>\n",
       "      <th>origin</th>\n",
       "    </tr>\n",
       "  </thead>\n",
       "  <tbody>\n",
       "    <tr>\n",
       "      <th>0</th>\n",
       "      <td>307.0</td>\n",
       "      <td>8</td>\n",
       "      <td>130.0</td>\n",
       "      <td>3504</td>\n",
       "      <td>12.0</td>\n",
       "      <td>70</td>\n",
       "      <td>1</td>\n",
       "    </tr>\n",
       "    <tr>\n",
       "      <th>1</th>\n",
       "      <td>350.0</td>\n",
       "      <td>8</td>\n",
       "      <td>165.0</td>\n",
       "      <td>3693</td>\n",
       "      <td>11.5</td>\n",
       "      <td>70</td>\n",
       "      <td>1</td>\n",
       "    </tr>\n",
       "    <tr>\n",
       "      <th>2</th>\n",
       "      <td>318.0</td>\n",
       "      <td>8</td>\n",
       "      <td>150.0</td>\n",
       "      <td>3436</td>\n",
       "      <td>11.0</td>\n",
       "      <td>70</td>\n",
       "      <td>1</td>\n",
       "    </tr>\n",
       "    <tr>\n",
       "      <th>3</th>\n",
       "      <td>304.0</td>\n",
       "      <td>8</td>\n",
       "      <td>150.0</td>\n",
       "      <td>3433</td>\n",
       "      <td>12.0</td>\n",
       "      <td>70</td>\n",
       "      <td>1</td>\n",
       "    </tr>\n",
       "    <tr>\n",
       "      <th>4</th>\n",
       "      <td>302.0</td>\n",
       "      <td>8</td>\n",
       "      <td>140.0</td>\n",
       "      <td>3449</td>\n",
       "      <td>10.5</td>\n",
       "      <td>70</td>\n",
       "      <td>1</td>\n",
       "    </tr>\n",
       "  </tbody>\n",
       "</table>\n",
       "</div>"
      ],
      "text/plain": [
       "   displacement  cylinders  horsepower  weight  acceleration  model_year  \\\n",
       "0         307.0          8       130.0    3504          12.0          70   \n",
       "1         350.0          8       165.0    3693          11.5          70   \n",
       "2         318.0          8       150.0    3436          11.0          70   \n",
       "3         304.0          8       150.0    3433          12.0          70   \n",
       "4         302.0          8       140.0    3449          10.5          70   \n",
       "\n",
       "   origin  \n",
       "0       1  \n",
       "1       1  \n",
       "2       1  \n",
       "3       1  \n",
       "4       1  "
      ]
     },
     "execution_count": 22,
     "metadata": {},
     "output_type": "execute_result"
    }
   ],
   "source": [
    "X.head(5)"
   ]
  },
  {
   "cell_type": "code",
   "execution_count": 24,
   "id": "2e51aa63-21cd-4332-9d2f-285f548ea7ca",
   "metadata": {},
   "outputs": [
    {
     "data": {
      "text/html": [
       "<div>\n",
       "<style scoped>\n",
       "    .dataframe tbody tr th:only-of-type {\n",
       "        vertical-align: middle;\n",
       "    }\n",
       "\n",
       "    .dataframe tbody tr th {\n",
       "        vertical-align: top;\n",
       "    }\n",
       "\n",
       "    .dataframe thead th {\n",
       "        text-align: right;\n",
       "    }\n",
       "</style>\n",
       "<table border=\"1\" class=\"dataframe\">\n",
       "  <thead>\n",
       "    <tr style=\"text-align: right;\">\n",
       "      <th></th>\n",
       "      <th>mpg</th>\n",
       "    </tr>\n",
       "  </thead>\n",
       "  <tbody>\n",
       "    <tr>\n",
       "      <th>0</th>\n",
       "      <td>18.0</td>\n",
       "    </tr>\n",
       "    <tr>\n",
       "      <th>1</th>\n",
       "      <td>15.0</td>\n",
       "    </tr>\n",
       "    <tr>\n",
       "      <th>2</th>\n",
       "      <td>18.0</td>\n",
       "    </tr>\n",
       "  </tbody>\n",
       "</table>\n",
       "</div>"
      ],
      "text/plain": [
       "    mpg\n",
       "0  18.0\n",
       "1  15.0\n",
       "2  18.0"
      ]
     },
     "execution_count": 24,
     "metadata": {},
     "output_type": "execute_result"
    }
   ],
   "source": [
    "y.head(3)"
   ]
  },
  {
   "cell_type": "code",
   "execution_count": null,
   "id": "e265ffaf-5b15-4fe7-adac-8b792c4b4e27",
   "metadata": {},
   "outputs": [],
   "source": [
    "import matplotlib.pyplot as plt\n",
    "# plt.hist(X['horsepower'])\n",
    "\n",
    "# plt.hist(X['origin'])"
   ]
  },
  {
   "cell_type": "code",
   "execution_count": 29,
   "id": "43bf1b68-4b65-46c8-aac6-ee134c997a76",
   "metadata": {},
   "outputs": [],
   "source": [
    "from sklearn.model_selection import train_test_split\n",
    "from sklearn.preprocessing import StandardScaler\n",
    "\n",
    "X_train, X_test, y_train, y_test = train_test_split(\n",
    "                                   X, y, test_size=0.2, random_state=42)\n",
    "from sklearn.impute import SimpleImputer\n",
    "\n",
    "# Imputer for numeric columns (e.g., Age)\n",
    "imputer = SimpleImputer(strategy='median')  # or 'mean' if you prefer\n",
    "feat = 'horsepower'\n",
    "# Fit on train, transform train\n",
    "X_train[feat] = imputer.fit_transform(X_train[[feat]])\n",
    "\n",
    "# Transform test using same statistics\n",
    "X_test[feat] = imputer.transform(X_test[[feat]])\n",
    "\n",
    "scaler = StandardScaler()\n",
    "X_train_scaled = scaler.fit_transform(X_train)\n",
    "X_test_scaled = scaler.transform(X_test)\n"
   ]
  },
  {
   "cell_type": "code",
   "execution_count": 31,
   "id": "7a236022-2d98-4990-85d4-d3c3f2c6499b",
   "metadata": {},
   "outputs": [
    {
     "name": "stdout",
     "output_type": "stream",
     "text": [
      "Train MSE: 11.6598\n",
      "Test MSE:  8.1982\n",
      "R² Score (test): 0.8475\n",
      "\n",
      "Model Coefficients:\n",
      "[[ 1.46510599 -0.26427258 -0.4949466  -5.65910982  0.18758242  2.859148\n",
      "   1.07320745]]\n",
      "Intercept: [23.6081761]\n"
     ]
    }
   ],
   "source": [
    "from sklearn.linear_model import LinearRegression\n",
    "from sklearn.metrics import mean_squared_error, r2_score\n",
    "\n",
    "# 1️⃣ Initialize the model\n",
    "model = LinearRegression()\n",
    "\n",
    "# 2️⃣ Train the model\n",
    "model.fit(X_train_scaled, y_train)\n",
    "\n",
    "# 3️⃣ Make predictions\n",
    "y_train_pred = model.predict(X_train_scaled)\n",
    "y_test_pred = model.predict(X_test_scaled)\n",
    "\n",
    "# 4️⃣ Evaluate performance\n",
    "train_mse = mean_squared_error(y_train, y_train_pred)\n",
    "test_mse = mean_squared_error(y_test, y_test_pred)\n",
    "r2 = r2_score(y_test, y_test_pred)\n",
    "\n",
    "print(f\"Train MSE: {train_mse:.4f}\")\n",
    "print(f\"Test MSE:  {test_mse:.4f}\")\n",
    "print(f\"R² Score (test): {r2:.4f}\")\n",
    "\n",
    "# 5️⃣ (Optional) Inspect coefficients\n",
    "print(\"\\nModel Coefficients:\")\n",
    "print(model.coef_)\n",
    "print(\"Intercept:\", model.intercept_)\n"
   ]
  },
  {
   "cell_type": "markdown",
   "id": "f1a42750-5f2f-4f70-a518-05468554b509",
   "metadata": {},
   "source": [
    "## Naive Numpy implementation"
   ]
  },
  {
   "cell_type": "code",
   "execution_count": 35,
   "id": "d569a32a-2621-474d-ab48-001648077bca",
   "metadata": {},
   "outputs": [],
   "source": [
    "#XtX = \n",
    "t = np.expand_dims(X_train_scaled, axis=1)\n",
    "\n",
    "# check if it is invertible\n",
    "# do matrix multiplications"
   ]
  },
  {
   "cell_type": "code",
   "execution_count": 36,
   "id": "5fd7b8ee-17d0-4069-9153-796b3db41072",
   "metadata": {},
   "outputs": [
    {
     "data": {
      "text/plain": [
       "(318, 1, 7)"
      ]
     },
     "execution_count": 36,
     "metadata": {},
     "output_type": "execute_result"
    }
   ],
   "source": [
    "t.shape"
   ]
  },
  {
   "cell_type": "code",
   "execution_count": 37,
   "id": "77b2e56b-9e68-4117-b8d8-d560ed489009",
   "metadata": {},
   "outputs": [
    {
     "data": {
      "text/plain": [
       "(318, 7)"
      ]
     },
     "execution_count": 37,
     "metadata": {},
     "output_type": "execute_result"
    }
   ],
   "source": [
    "X_train_scaled.shape"
   ]
  },
  {
   "cell_type": "code",
   "execution_count": 39,
   "id": "3c0a55f8-c00e-4a50-a89d-c30652826c91",
   "metadata": {},
   "outputs": [
    {
     "name": "stdout",
     "output_type": "stream",
     "text": [
      "Intercept: [23.6081761]\n",
      "Coefficients: [[ 1.46510599]\n",
      " [-0.26427258]\n",
      " [-0.4949466 ]\n",
      " [-5.65910982]\n",
      " [ 0.18758242]\n",
      " [ 2.859148  ]\n",
      " [ 1.07320745]]\n"
     ]
    }
   ],
   "source": [
    "import numpy as np\n",
    "\n",
    "# Suppose X is your original feature matrix (n_samples × n_features)\n",
    "# and y is your target vector (n_samples × 1)\n",
    "\n",
    "# 1️⃣ Add a column of 1s for the bias/intercept term\n",
    "X_b = np.c_[np.ones((X_train_scaled.shape[0], 1)), X_train_scaled]   # shape becomes (n_samples, n_features + 1)\n",
    "\n",
    "y_train = y_train.to_numpy()\n",
    "# 2️⃣ Compute the Normal Equation\n",
    "theta_best = np.linalg.inv(X_b.T @ X_b) @ X_b.T @ y_train\n",
    "\n",
    "# 3️⃣ Optional: Separate intercept and coefficients\n",
    "intercept = theta_best[0]\n",
    "coefficients = theta_best[1:]\n",
    "\n",
    "print(\"Intercept:\", intercept)\n",
    "print(\"Coefficients:\", coefficients)\n"
   ]
  },
  {
   "cell_type": "code",
   "execution_count": 41,
   "id": "e7daa8cc-a99b-4516-91d8-73c2c64afe26",
   "metadata": {},
   "outputs": [
    {
     "name": "stdout",
     "output_type": "stream",
     "text": [
      "(7, 1)\n"
     ]
    }
   ],
   "source": [
    "print(coefficients.shape)"
   ]
  },
  {
   "cell_type": "code",
   "execution_count": 43,
   "id": "749b2252-0eb3-4c86-a2f9-d4dae1232845",
   "metadata": {},
   "outputs": [
    {
     "name": "stdout",
     "output_type": "stream",
     "text": [
      "(318, 7)\n"
     ]
    }
   ],
   "source": [
    "print(X_train_scaled.shape)"
   ]
  },
  {
   "cell_type": "code",
   "execution_count": 44,
   "id": "9aa33f13-9625-46b3-9165-359e060aef01",
   "metadata": {},
   "outputs": [],
   "source": [
    "a = X_test_scaled[0,:]\n",
    "\n",
    "def predict_one(x, coefficients, intercept):\n",
    "    return np.dot(x,coefficients) + intercept\n",
    "\n",
    "predict_one(a,coefficients, intercept)\n",
    "\n",
    "def predict_all(X, coefficients, intercept):\n",
    "    n_examples = X.shape[0]\n",
    "    return np.array([predict_one(x, coefficients, intercept) for x in X])\n",
    "\n",
    "y_train_pred_s = predict_all(X_train_scaled, coefficients, intercept)"
   ]
  },
  {
   "cell_type": "code",
   "execution_count": 46,
   "id": "38f792c7-f4a1-4dd4-950e-c1a7bf65bbf9",
   "metadata": {},
   "outputs": [
    {
     "data": {
      "text/plain": [
       "array([[15.1652094 ],\n",
       "       [25.27688518],\n",
       "       [35.955334  ],\n",
       "       [34.27794257],\n",
       "       [24.32045547]])"
      ]
     },
     "execution_count": 46,
     "metadata": {},
     "output_type": "execute_result"
    }
   ],
   "source": [
    "y_train_pred_s[:5,:]"
   ]
  },
  {
   "cell_type": "code",
   "execution_count": 47,
   "id": "7b8d4131-1379-4038-ba87-df21d7141b7a",
   "metadata": {},
   "outputs": [],
   "source": [
    "y_test_pred_s = predict_all(X_test_scaled, coefficients, intercept)"
   ]
  },
  {
   "cell_type": "code",
   "execution_count": 48,
   "id": "0853ae52-fcd7-4b0b-994c-86005fa3db7a",
   "metadata": {},
   "outputs": [],
   "source": [
    "# 4️⃣ Evaluate performance\n",
    "train_mse_s = mean_squared_error(y_train, y_train_pred_s)\n",
    "test_mse_s = mean_squared_error(y_test, y_test_pred)\n",
    "r2_test_s = r2_score(y_test, y_test_pred)\n",
    "r2_train_s = r2_score(y_train, y_train_pred)"
   ]
  },
  {
   "cell_type": "code",
   "execution_count": 49,
   "id": "0c96c9c4-ec62-4d82-ad8a-7bdfd2d6c219",
   "metadata": {},
   "outputs": [
    {
     "name": "stdout",
     "output_type": "stream",
     "text": [
      "Train MSE: 11.6598\n",
      "Test MSE:  8.1982\n",
      "R² Score (train): 0.8140\n",
      "R² Score (test): 0.8475\n"
     ]
    }
   ],
   "source": [
    "print(f\"Train MSE: {train_mse_s:.4f}\")\n",
    "print(f\"Test MSE:  {test_mse_s:.4f}\")\n",
    "print(f\"R² Score (train): {r2_train_s:.4f}\")\n",
    "print(f\"R² Score (test): {r2_test_s:.4f}\")\n"
   ]
  },
  {
   "cell_type": "code",
   "execution_count": null,
   "id": "a6cbc66a-40e6-4bff-b78b-bc4a35402367",
   "metadata": {},
   "outputs": [],
   "source": []
  }
 ],
 "metadata": {
  "kernelspec": {
   "display_name": "Python 3 (ipykernel)",
   "language": "python",
   "name": "python3"
  },
  "language_info": {
   "codemirror_mode": {
    "name": "ipython",
    "version": 3
   },
   "file_extension": ".py",
   "mimetype": "text/x-python",
   "name": "python",
   "nbconvert_exporter": "python",
   "pygments_lexer": "ipython3",
   "version": "3.10.12"
  }
 },
 "nbformat": 4,
 "nbformat_minor": 5
}
