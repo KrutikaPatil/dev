{
 "cells": [
  {
   "cell_type": "markdown",
   "id": "1c0baf70-cce1-4859-a138-90a8b980e1a9",
   "metadata": {},
   "source": [
    "# Implementing Linear Regression"
   ]
  },
  {
   "cell_type": "code",
   "execution_count": null,
   "id": "0a175809-d590-4910-9ebd-92ac57eed0a0",
   "metadata": {},
   "outputs": [],
   "source": [
    "from ucimlrepo import fetch_ucirepo \n",
    "  \n",
    "# fetch dataset \n",
    "auto_mpg = fetch_ucirepo(id=9) \n",
    "  \n",
    "# data (as pandas dataframes) \n",
    "X = auto_mpg.data.features \n",
    "y = auto_mpg.data.targets \n",
    "  \n",
    "# metadata \n",
    "auto_mpg.metadata"
   ]
  },
  {
   "cell_type": "code",
   "execution_count": null,
   "id": "fdc0a15b-d065-4fcb-8e56-f5b3546fae68",
   "metadata": {},
   "outputs": [],
   "source": [
    "# variable information \n",
    "auto_mpg.variables\n"
   ]
  },
  {
   "cell_type": "code",
   "execution_count": null,
   "id": "7e4d602d-4a0b-4462-832b-e1fad7c4933e",
   "metadata": {},
   "outputs": [],
   "source": [
    "X.shape"
   ]
  },
  {
   "cell_type": "code",
   "execution_count": null,
   "id": "d7a61936-fa0f-4608-b3a8-0b22fcf18df1",
   "metadata": {},
   "outputs": [],
   "source": [
    "X.head(5)"
   ]
  },
  {
   "cell_type": "code",
   "execution_count": null,
   "id": "2e51aa63-21cd-4332-9d2f-285f548ea7ca",
   "metadata": {},
   "outputs": [],
   "source": [
    "y.head(3)"
   ]
  },
  {
   "cell_type": "code",
   "execution_count": null,
   "id": "e265ffaf-5b15-4fe7-adac-8b792c4b4e27",
   "metadata": {},
   "outputs": [],
   "source": [
    "import matplotlib.pyplot as plt\n",
    "# plt.hist(X['horsepower'])\n",
    "\n",
    "# plt.hist(X['origin'])"
   ]
  },
  {
   "cell_type": "code",
   "execution_count": null,
   "id": "43bf1b68-4b65-46c8-aac6-ee134c997a76",
   "metadata": {},
   "outputs": [],
   "source": [
    "from sklearn.model_selection import train_test_split\n",
    "from sklearn.preprocessing import StandardScaler\n",
    "\n",
    "X_train, X_test, y_train, y_test = train_test_split(\n",
    "                                   X, y, test_size=0.2, random_state=42)\n",
    "from sklearn.impute import SimpleImputer\n",
    "\n",
    "# Imputer for numeric columns (e.g., Age)\n",
    "imputer = SimpleImputer(strategy='median')  # or 'mean' if you prefer\n",
    "feat = 'horsepower'\n",
    "# Fit on train, transform train\n",
    "X_train[feat] = imputer.fit_transform(X_train[[feat]])\n",
    "\n",
    "# Transform test using same statistics\n",
    "X_test[feat] = imputer.transform(X_test[[feat]])\n",
    "\n",
    "scaler = StandardScaler()\n",
    "X_train_scaled = scaler.fit_transform(X_train)\n",
    "X_test_scaled = scaler.transform(X_test)\n"
   ]
  },
  {
   "cell_type": "code",
   "execution_count": null,
   "id": "7a236022-2d98-4990-85d4-d3c3f2c6499b",
   "metadata": {},
   "outputs": [],
   "source": [
    "from sklearn.linear_model import LinearRegression\n",
    "from sklearn.metrics import mean_squared_error, r2_score\n",
    "\n",
    "# 1️⃣ Initialize the model\n",
    "model = LinearRegression()\n",
    "\n",
    "# 2️⃣ Train the model\n",
    "model.fit(X_train_scaled, y_train)\n",
    "\n",
    "# 3️⃣ Make predictions\n",
    "y_train_pred = model.predict(X_train_scaled)\n",
    "y_test_pred = model.predict(X_test_scaled)\n",
    "\n",
    "# 4️⃣ Evaluate performance\n",
    "train_mse = mean_squared_error(y_train, y_train_pred)\n",
    "test_mse = mean_squared_error(y_test, y_test_pred)\n",
    "r2 = r2_score(y_test, y_test_pred)\n",
    "\n",
    "print(f\"Train MSE: {train_mse:.4f}\")\n",
    "print(f\"Test MSE:  {test_mse:.4f}\")\n",
    "print(f\"R² Score (test): {r2:.4f}\")\n",
    "\n",
    "# 5️⃣ (Optional) Inspect coefficients\n",
    "print(\"\\nModel Coefficients:\")\n",
    "print(model.coef_)\n",
    "print(\"Intercept:\", model.intercept_)\n"
   ]
  },
  {
   "cell_type": "markdown",
   "id": "f1a42750-5f2f-4f70-a518-05468554b509",
   "metadata": {},
   "source": [
    "## Naive Numpy implementation"
   ]
  },
  {
   "cell_type": "code",
   "execution_count": null,
   "id": "d569a32a-2621-474d-ab48-001648077bca",
   "metadata": {},
   "outputs": [],
   "source": [
    "#XtX = \n",
    "t = np.expand_dims(X_train_scaled, axis=1)\n",
    "\n",
    "# check if it is invertible\n",
    "# do matrix multiplications"
   ]
  },
  {
   "cell_type": "code",
   "execution_count": null,
   "id": "5fd7b8ee-17d0-4069-9153-796b3db41072",
   "metadata": {},
   "outputs": [],
   "source": [
    "t.shape"
   ]
  },
  {
   "cell_type": "code",
   "execution_count": null,
   "id": "77b2e56b-9e68-4117-b8d8-d560ed489009",
   "metadata": {},
   "outputs": [],
   "source": [
    "X_train_scaled.shape"
   ]
  },
  {
   "cell_type": "code",
   "execution_count": null,
   "id": "3c0a55f8-c00e-4a50-a89d-c30652826c91",
   "metadata": {},
   "outputs": [],
   "source": [
    "import numpy as np\n",
    "\n",
    "# Suppose X is your original feature matrix (n_samples × n_features)\n",
    "# and y is your target vector (n_samples × 1)\n",
    "\n",
    "# 1️⃣ Add a column of 1s for the bias/intercept term\n",
    "X_b = np.c_[np.ones((X_train_scaled.shape[0], 1)), X_train_scaled]   # shape becomes (n_samples, n_features + 1)\n",
    "\n",
    "y_train = y_train.to_numpy()\n",
    "# 2️⃣ Compute the Normal Equation\n",
    "theta_best = np.linalg.inv(X_b.T @ X_b) @ X_b.T @ y_train\n",
    "\n",
    "# 3️⃣ Optional: Separate intercept and coefficients\n",
    "intercept = theta_best[0]\n",
    "coefficients = theta_best[1:]\n",
    "\n",
    "print(\"Intercept:\", intercept)\n",
    "print(\"Coefficients:\", coefficients)\n"
   ]
  },
  {
   "cell_type": "code",
   "execution_count": null,
   "id": "e7daa8cc-a99b-4516-91d8-73c2c64afe26",
   "metadata": {},
   "outputs": [],
   "source": [
    "print(coefficients.shape)"
   ]
  },
  {
   "cell_type": "code",
   "execution_count": null,
   "id": "749b2252-0eb3-4c86-a2f9-d4dae1232845",
   "metadata": {},
   "outputs": [],
   "source": [
    "print(X_train_scaled.shape)"
   ]
  },
  {
   "cell_type": "code",
   "execution_count": null,
   "id": "9aa33f13-9625-46b3-9165-359e060aef01",
   "metadata": {},
   "outputs": [],
   "source": [
    "a = X_test_scaled[0,:]\n",
    "\n",
    "def predict_one(x, coefficients, intercept):\n",
    "    return np.dot(x,coefficients) + intercept\n",
    "\n",
    "predict_one(a,coefficients, intercept)\n",
    "\n",
    "def predict_all(X, coefficients, intercept):\n",
    "    n_examples = X.shape[0]\n",
    "    return np.array([predict_one(x, coefficients, intercept) for x in X])\n",
    "\n",
    "y_train_pred_s = predict_all(X_train_scaled, coefficients, intercept)"
   ]
  },
  {
   "cell_type": "code",
   "execution_count": null,
   "id": "38f792c7-f4a1-4dd4-950e-c1a7bf65bbf9",
   "metadata": {},
   "outputs": [],
   "source": [
    "y_train_pred_s[:5,:]"
   ]
  },
  {
   "cell_type": "code",
   "execution_count": null,
   "id": "7b8d4131-1379-4038-ba87-df21d7141b7a",
   "metadata": {},
   "outputs": [],
   "source": [
    "y_test_pred_s = predict_all(X_test_scaled, coefficients, intercept)"
   ]
  },
  {
   "cell_type": "code",
   "execution_count": null,
   "id": "0853ae52-fcd7-4b0b-994c-86005fa3db7a",
   "metadata": {},
   "outputs": [],
   "source": [
    "# 4️⃣ Evaluate performance\n",
    "train_mse_s = mean_squared_error(y_train, y_train_pred_s)\n",
    "test_mse_s = mean_squared_error(y_test, y_test_pred)\n",
    "r2_test_s = r2_score(y_test, y_test_pred)\n",
    "r2_train_s = r2_score(y_train, y_train_pred)"
   ]
  },
  {
   "cell_type": "code",
   "execution_count": null,
   "id": "0c96c9c4-ec62-4d82-ad8a-7bdfd2d6c219",
   "metadata": {},
   "outputs": [],
   "source": [
    "print(f\"Train MSE: {train_mse_s:.4f}\")\n",
    "print(f\"Test MSE:  {test_mse_s:.4f}\")\n",
    "print(f\"R² Score (train): {r2_train_s:.4f}\")\n",
    "print(f\"R² Score (test): {r2_test_s:.4f}\")\n"
   ]
  },
  {
   "cell_type": "code",
   "execution_count": null,
   "id": "a6cbc66a-40e6-4bff-b78b-bc4a35402367",
   "metadata": {},
   "outputs": [],
   "source": []
  }
 ],
 "metadata": {
  "kernelspec": {
   "display_name": "Python 3 (ipykernel)",
   "language": "python",
   "name": "python3"
  },
  "language_info": {
   "codemirror_mode": {
    "name": "ipython",
    "version": 3
   },
   "file_extension": ".py",
   "mimetype": "text/x-python",
   "name": "python",
   "nbconvert_exporter": "python",
   "pygments_lexer": "ipython3",
   "version": "3.10.12"
  }
 },
 "nbformat": 4,
 "nbformat_minor": 5
}
