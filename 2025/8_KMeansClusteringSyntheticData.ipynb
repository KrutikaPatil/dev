{
 "cells": [
  {
   "cell_type": "markdown",
   "id": "1af676a7-7c61-4f18-a071-9e28fcd2e2b1",
   "metadata": {},
   "source": [
    "### Implementing K Means Clustering"
   ]
  },
  {
   "cell_type": "code",
   "execution_count": null,
   "id": "5ba47c91-6fd3-4f18-b7cc-c1e9bc2153ab",
   "metadata": {},
   "outputs": [],
   "source": [
    "import numpy as np\n",
    "import matplotlib.pyplot as plt\n",
    "from sklearn.datasets import make_blobs\n",
    "\n",
    "# Create 2D data with 3 clusters\n",
    "X, y_true = make_blobs(n_samples=300,       # total samples\n",
    "                       centers=3,          # number of clusters\n",
    "                       n_features=2,       # 2D\n",
    "                       cluster_std=1.0,    # standard deviation of clusters\n",
    "                       random_state=42)    # reproducibility\n",
    "\n",
    "# Plot the dataset\n",
    "plt.figure(figsize=(6,6))\n",
    "plt.scatter(X[:,0], X[:,1], c=y_true, cmap='viridis', s=50)\n",
    "plt.title(\"Dummy 2D dataset with 3 clusters\")\n",
    "plt.xlabel(\"Feature 1\")\n",
    "plt.ylabel(\"Feature 2\")\n",
    "plt.show()\n"
   ]
  },
  {
   "cell_type": "markdown",
   "id": "8d41abe8-57a3-4472-b7f6-1f14de52e1ce",
   "metadata": {},
   "source": [
    "### Sklearns implementation"
   ]
  },
  {
   "cell_type": "code",
   "execution_count": null,
   "id": "7d2aafd1-93bf-4227-bb83-d6bc7e156b1e",
   "metadata": {},
   "outputs": [],
   "source": [
    "from sklearn.cluster import KMeans\n",
    "\n",
    "# Initialize KMeans with 3 clusters\n",
    "kmeans = KMeans(n_clusters=3, random_state=42)\n",
    "kmeans.fit(X)\n",
    "\n",
    "# Predicted cluster labels\n",
    "y_pred = kmeans.labels_\n",
    "\n",
    "# Cluster centers\n",
    "centers = kmeans.cluster_centers_\n",
    "\n",
    "# Plot the K-Means clusters\n",
    "plt.figure(figsize=(6,6))\n",
    "plt.scatter(X[:,0], X[:,1], c=y_pred, cmap='viridis', s=50)\n",
    "plt.scatter(centers[:,0], centers[:,1], c='red', s=200, marker='X')  # cluster centers\n",
    "plt.title(\"K-Means clustering on 2D dataset\")\n",
    "plt.xlabel(\"Feature 1\")\n",
    "plt.ylabel(\"Feature 2\")\n",
    "plt.show()\n"
   ]
  },
  {
   "cell_type": "code",
   "execution_count": null,
   "id": "4f0f9f37-81f3-4a57-859a-7513f5a864f9",
   "metadata": {},
   "outputs": [],
   "source": [
    "from sklearn.metrics import silhouette_score\n",
    "\n",
    "score = silhouette_score(X, y_pred)\n",
    "print(\"Silhouette score:\", score)\n"
   ]
  },
  {
   "cell_type": "markdown",
   "id": "df6f214b-3bd1-4ecf-95e5-704691b0cc7a",
   "metadata": {},
   "source": [
    "### implementation form scratch"
   ]
  },
  {
   "cell_type": "code",
   "execution_count": null,
   "id": "abaa2704-d7ca-4f8b-915f-9c4439ba4e54",
   "metadata": {},
   "outputs": [],
   "source": [
    "## We have X, y_pred, y_true\n",
    "X.shape"
   ]
  },
  {
   "cell_type": "code",
   "execution_count": null,
   "id": "6619eeac-20b0-4ed1-9603-2e7d44d386bb",
   "metadata": {},
   "outputs": [],
   "source": [
    "n_examples, n_features = X.shape"
   ]
  },
  {
   "cell_type": "code",
   "execution_count": null,
   "id": "cab955f2-a0b5-443e-b4c7-313d3b362a12",
   "metadata": {},
   "outputs": [],
   "source": [
    "n_clusters = 3"
   ]
  },
  {
   "cell_type": "code",
   "execution_count": null,
   "id": "9fc55d61-0fee-43b5-8633-ba232b8f8118",
   "metadata": {},
   "outputs": [],
   "source": [
    "centroids = np.random.randn(n_clusters, n_features)"
   ]
  },
  {
   "cell_type": "code",
   "execution_count": null,
   "id": "31d2a1d4-01b9-4e20-9c35-3be550187d09",
   "metadata": {},
   "outputs": [],
   "source": [
    "centroids"
   ]
  },
  {
   "cell_type": "code",
   "execution_count": null,
   "id": "5b86e920-94ed-487f-a530-f68b66370688",
   "metadata": {},
   "outputs": [],
   "source": [
    "X_min = X.min(axis=0)\n",
    "X_max = X.max(axis=0)\n",
    "\n",
    "# Initialize centroids randomly within the data range\n",
    "centroids = X_min + (X_max - X_min) * np.random.rand(n_clusters, n_features,seed=2)"
   ]
  },
  {
   "cell_type": "code",
   "execution_count": null,
   "id": "b114955f-13fc-4ce4-8184-128de331905c",
   "metadata": {},
   "outputs": [],
   "source": [
    "centroids"
   ]
  },
  {
   "cell_type": "code",
   "execution_count": null,
   "id": "3c79f1d7-a9fc-40ca-bdce-f97283e87eba",
   "metadata": {},
   "outputs": [],
   "source": [
    "y_train_pred = np.argmin(D, axis = 1 )\n",
    "print(y_train_pred.shape)\n"
   ]
  },
  {
   "cell_type": "code",
   "execution_count": null,
   "id": "5ccf8378-e2d9-4e33-9f77-336877200bdb",
   "metadata": {},
   "outputs": [],
   "source": [
    "import matplotlib.pyplot as plt"
   ]
  },
  {
   "cell_type": "code",
   "execution_count": null,
   "id": "3e4a6f8d-d63a-4a0d-9d8a-6885a19dfb3f",
   "metadata": {},
   "outputs": [],
   "source": [
    "plt.hist(y_train_pred)"
   ]
  },
  {
   "cell_type": "code",
   "execution_count": null,
   "id": "3613895b-52c3-45f9-9c86-d101f21cb311",
   "metadata": {},
   "outputs": [],
   "source": [
    "score = silhouette_score(X, y_train_pred)\n",
    "print(\"Silhouette score:\", score)\n"
   ]
  },
  {
   "cell_type": "code",
   "execution_count": null,
   "id": "43029f4c-956c-480b-82a7-09fc8f505608",
   "metadata": {},
   "outputs": [],
   "source": [
    "def loop_until_convergence(X, centroids, n_clusters=3, tol=1e-3, n_iter=100):\n",
    "    n_samples, n_features = X.shape\n",
    "\n",
    "    for iteration in range(n_iter):\n",
    "        # Step 1: assign points to nearest centroid\n",
    "        y_pred = np.zeros(n_samples, dtype=int)\n",
    "        for i in range(n_samples):\n",
    "            min_dist = float('inf')\n",
    "            assigned_cluster = 0\n",
    "            for j in range(n_clusters):\n",
    "                dist = np.linalg.norm(X[i] - centroids[j])\n",
    "                if dist < min_dist:\n",
    "                    min_dist = dist\n",
    "                    assigned_cluster = j\n",
    "            y_pred[i] = assigned_cluster\n",
    "\n",
    "        # Step 2: store previous centroids\n",
    "        old_centroids = centroids.copy()\n",
    "\n",
    "        # Step 3: update centroids based on current assignments\n",
    "        for j in range(n_clusters):\n",
    "            points = X[y_pred == j]\n",
    "            if len(points) > 0:          # avoid empty cluster\n",
    "                centroids[j] = np.mean(points, axis=0)\n",
    "\n",
    "        # Step 4: check convergence (centroid shift)\n",
    "        shift = np.linalg.norm(centroids - old_centroids)\n",
    "        if shift < tol:\n",
    "            print(f\"Converged at iteration {iteration+1}, shift={shift:.6f}\")\n",
    "            break\n",
    "\n",
    "    return centroids, y_pred\n"
   ]
  },
  {
   "cell_type": "code",
   "execution_count": null,
   "id": "d70d5e90-3cb0-415e-8884-fe9e8a537e92",
   "metadata": {},
   "outputs": [],
   "source": [
    "final_centroids, y_pred = loop_until_convergence(X, centroids, n_clusters=n_clusters)\n",
    "print(\"Final centroids:\\n\", final_centroids)"
   ]
  },
  {
   "cell_type": "code",
   "execution_count": null,
   "id": "9d62cb9d-3c34-483c-a5d0-9c3edb0fc6c3",
   "metadata": {},
   "outputs": [],
   "source": [
    "score = silhouette_score(X, y_pred)\n",
    "print(\"Silhouette score:\", score)\n"
   ]
  },
  {
   "cell_type": "code",
   "execution_count": null,
   "id": "dc29c6d5-f0aa-4af0-ad7e-332759d4754e",
   "metadata": {},
   "outputs": [],
   "source": []
  }
 ],
 "metadata": {
  "kernelspec": {
   "display_name": "Python 3 (ipykernel)",
   "language": "python",
   "name": "python3"
  },
  "language_info": {
   "codemirror_mode": {
    "name": "ipython",
    "version": 3
   },
   "file_extension": ".py",
   "mimetype": "text/x-python",
   "name": "python",
   "nbconvert_exporter": "python",
   "pygments_lexer": "ipython3",
   "version": "3.10.12"
  }
 },
 "nbformat": 4,
 "nbformat_minor": 5
}
