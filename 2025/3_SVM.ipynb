{
 "cells": [
  {
   "cell_type": "markdown",
   "id": "0ab75bd4-9c48-4de0-aeec-ecfe19cfada8",
   "metadata": {
    "editable": true,
    "slideshow": {
     "slide_type": ""
    },
    "tags": []
   },
   "source": [
    "# Implementing the SVM Algorithm"
   ]
  },
  {
   "cell_type": "code",
   "execution_count": 1,
   "id": "3f753f97-f0be-4fc1-a389-206aa65bf80e",
   "metadata": {
    "editable": true,
    "slideshow": {
     "slide_type": ""
    },
    "tags": []
   },
   "outputs": [
    {
     "data": {
      "text/html": [
       "<div>\n",
       "<style scoped>\n",
       "    .dataframe tbody tr th:only-of-type {\n",
       "        vertical-align: middle;\n",
       "    }\n",
       "\n",
       "    .dataframe tbody tr th {\n",
       "        vertical-align: top;\n",
       "    }\n",
       "\n",
       "    .dataframe thead th {\n",
       "        text-align: right;\n",
       "    }\n",
       "</style>\n",
       "<table border=\"1\" class=\"dataframe\">\n",
       "  <thead>\n",
       "    <tr style=\"text-align: right;\">\n",
       "      <th></th>\n",
       "      <th>PassengerId</th>\n",
       "      <th>Survived</th>\n",
       "      <th>Pclass</th>\n",
       "      <th>Name</th>\n",
       "      <th>Sex</th>\n",
       "      <th>Age</th>\n",
       "      <th>SibSp</th>\n",
       "      <th>Parch</th>\n",
       "      <th>Ticket</th>\n",
       "      <th>Fare</th>\n",
       "      <th>Cabin</th>\n",
       "      <th>Embarked</th>\n",
       "    </tr>\n",
       "  </thead>\n",
       "  <tbody>\n",
       "    <tr>\n",
       "      <th>0</th>\n",
       "      <td>1</td>\n",
       "      <td>0</td>\n",
       "      <td>3</td>\n",
       "      <td>Braund, Mr. Owen Harris</td>\n",
       "      <td>male</td>\n",
       "      <td>22.0</td>\n",
       "      <td>1</td>\n",
       "      <td>0</td>\n",
       "      <td>A/5 21171</td>\n",
       "      <td>7.2500</td>\n",
       "      <td>NaN</td>\n",
       "      <td>S</td>\n",
       "    </tr>\n",
       "    <tr>\n",
       "      <th>1</th>\n",
       "      <td>2</td>\n",
       "      <td>1</td>\n",
       "      <td>1</td>\n",
       "      <td>Cumings, Mrs. John Bradley (Florence Briggs Th...</td>\n",
       "      <td>female</td>\n",
       "      <td>38.0</td>\n",
       "      <td>1</td>\n",
       "      <td>0</td>\n",
       "      <td>PC 17599</td>\n",
       "      <td>71.2833</td>\n",
       "      <td>C85</td>\n",
       "      <td>C</td>\n",
       "    </tr>\n",
       "  </tbody>\n",
       "</table>\n",
       "</div>"
      ],
      "text/plain": [
       "   PassengerId  Survived  Pclass  \\\n",
       "0            1         0       3   \n",
       "1            2         1       1   \n",
       "\n",
       "                                                Name     Sex   Age  SibSp  \\\n",
       "0                            Braund, Mr. Owen Harris    male  22.0      1   \n",
       "1  Cumings, Mrs. John Bradley (Florence Briggs Th...  female  38.0      1   \n",
       "\n",
       "   Parch     Ticket     Fare Cabin Embarked  \n",
       "0      0  A/5 21171   7.2500   NaN        S  \n",
       "1      0   PC 17599  71.2833   C85        C  "
      ]
     },
     "execution_count": 1,
     "metadata": {},
     "output_type": "execute_result"
    }
   ],
   "source": [
    "import pandas as pd\n",
    "import numpy as np\n",
    "\n",
    "df= pd.read_csv('../day5_titanic/train.csv')\n",
    "df.head(2)"
   ]
  },
  {
   "cell_type": "code",
   "execution_count": 2,
   "id": "1b4a2fab-f5e7-4530-babd-40b037e77f83",
   "metadata": {
    "editable": true,
    "slideshow": {
     "slide_type": ""
    },
    "tags": []
   },
   "outputs": [],
   "source": [
    "y=df['Survived']\n",
    "X=df[['Pclass', 'Sex', 'Age', 'SibSp', 'Parch', 'Fare', 'Cabin', 'Embarked']]"
   ]
  },
  {
   "cell_type": "code",
   "execution_count": 3,
   "id": "cbef1041-5837-4c93-b481-919d0064a5b1",
   "metadata": {
    "editable": true,
    "slideshow": {
     "slide_type": ""
    },
    "tags": []
   },
   "outputs": [],
   "source": [
    "X_numeric = X[['Pclass', 'Age', 'SibSp', 'Parch', 'Fare']]\n",
    "X_categorical = X[['Sex','Embarked']]\n",
    "X_neither = X['Cabin']\n",
    "X_onehot = pd.get_dummies(X_categorical,['Sex','Embarked']).astype(int)\n",
    "X_cabin_nonna = X['Cabin'].apply(lambda x: 0 if pd.isna(x) else 1)\n",
    "X_encoded0 = pd.merge(X_numeric, X_cabin_nonna,  left_index=True, right_index=True)\n",
    "X_encoded1 = pd.merge(X_encoded0, X_onehot,  left_index=True, right_index=True)\n",
    "from sklearn.model_selection import train_test_split\n",
    "from sklearn.preprocessing import StandardScaler\n",
    "\n",
    "X_train, X_test, y_train, y_test = train_test_split(\n",
    "    X_encoded1, y, test_size=0.2, random_state=42, stratify=y\n",
    ")\n",
    "from sklearn.impute import SimpleImputer\n",
    "\n",
    "# Imputer for numeric columns (e.g., Age)\n",
    "imputer = SimpleImputer(strategy='median')  # or 'mean' if you prefer\n",
    "\n",
    "# Fit on train, transform train\n",
    "X_train['Age'] = imputer.fit_transform(X_train[['Age']])\n",
    "\n",
    "# Transform test using same statistics\n",
    "X_test['Age'] = imputer.transform(X_test[['Age']])\n",
    "\n",
    "scaler = StandardScaler()\n",
    "X_train_scaled = scaler.fit_transform(X_train)\n",
    "X_test_scaled = scaler.transform(X_test)\n",
    "\n"
   ]
  },
  {
   "cell_type": "markdown",
   "id": "a8f9cb33-bcef-4842-864b-051ac98b1f8f",
   "metadata": {},
   "source": [
    "### Application from sklearn library"
   ]
  },
  {
   "cell_type": "code",
   "execution_count": 6,
   "id": "15ef4b6c-667a-4a06-a7fb-17a8d3043a4a",
   "metadata": {},
   "outputs": [
    {
     "name": "stdout",
     "output_type": "stream",
     "text": [
      "Train Accuracy: 0.8132\n",
      "Test Accuracy: 0.8101\n"
     ]
    }
   ],
   "source": [
    "# ----------------------------\n",
    "# Import required libraries\n",
    "# ----------------------------\n",
    "from sklearn.svm import SVC\n",
    "from sklearn.metrics import accuracy_score\n",
    "# ----------------------------\n",
    "# Create and train SVM model\n",
    "# ----------------------------\n",
    "# You can choose kernel='linear', 'rbf', 'poly', etc.\n",
    "svm_model = SVC(kernel='rbf', C=0.1, gamma='scale', random_state=6)\n",
    "\n",
    "# Train the model\n",
    "svm_model.fit(X_train_scaled, y_train)\n",
    "# ----------------------------\n",
    "# Predictions\n",
    "# ----------------------------\n",
    "y_train_pred = svm_model.predict(X_train_scaled)\n",
    "y_test_pred = svm_model.predict(X_test_scaled)\n",
    "\n",
    "# ----------------------------\n",
    "# Evaluate accuracy\n",
    "# ----------------------------\n",
    "train_acc = accuracy_score(y_train, y_train_pred)\n",
    "test_acc = accuracy_score(y_test, y_test_pred)\n",
    "\n",
    "print(f\"Train Accuracy: {train_acc:.4f}\")\n",
    "print(f\"Test Accuracy: {test_acc:.4f}\")\n"
   ]
  },
  {
   "cell_type": "markdown",
   "id": "b36146cc-f40d-4c55-bf49-7fcc8e4756b8",
   "metadata": {
    "editable": true,
    "slideshow": {
     "slide_type": ""
    },
    "tags": []
   },
   "source": [
    "### Implementation from scratch"
   ]
  },
  {
   "cell_type": "markdown",
   "id": "09aaadb1-be85-421b-b102-51d46d40eef0",
   "metadata": {
    "editable": true,
    "slideshow": {
     "slide_type": ""
    },
    "tags": []
   },
   "source": [
    "## Start here: X_train, X_test, y_train, y_test\n",
    "### Hyperparameters: kernel, C, gamma"
   ]
  },
  {
   "cell_type": "markdown",
   "id": "9ebcdc7e-c6af-489f-b818-51f772678544",
   "metadata": {},
   "source": [
    "AFAIK the \"math is analytical\" - maximum margin classifier where margin is the distance of the separating hyperplane to its closest points - and only end results are in code"
   ]
  },
  {
   "cell_type": "code",
   "execution_count": 7,
   "id": "5911bc5e-840d-40fe-988f-35b4161b9a8b",
   "metadata": {},
   "outputs": [],
   "source": [
    "learning_rate = 0.01\n",
    "kernel = 'linear'\n",
    "C = 0.1"
   ]
  },
  {
   "cell_type": "code",
   "execution_count": 22,
   "id": "5c2813e8-e28a-422e-b022-05ba5ef9a3eb",
   "metadata": {},
   "outputs": [],
   "source": [
    "\n",
    "class SVM:\n",
    "    def __init__(self,learning_rate=0.015, kernel='linear', C=0.1,n_iters=10000):\n",
    "        self.C = C\n",
    "        self.lr = learning_rate\n",
    "        self.kernel = kernel\n",
    "        self.n_iters=n_iters\n",
    "        self.w = None\n",
    "        self.b = None\n",
    "\n",
    "    def fit(self, X, y):\n",
    "        # gradient descent on the derivative of hinge loss \n",
    "        # hinge loss: \n",
    "        # first convert y 0,1 to y -1 / 1\n",
    "        y_ = np.where(y <= 0, -1,1)\n",
    "        n_samples, n_features = X.shape\n",
    "        self.w = np.random.randn(n_features)\n",
    "        self.b = np.random.randn(1)\n",
    "        for _ in range(self.n_iters):\n",
    "            # Compute the margin for all samples\n",
    "            margins = y_ * (X.dot(self.w) + self.b)\n",
    "            # Identify which samples violate the margin\n",
    "            misclassified = margins < 1\n",
    "\n",
    "            # Gradient for w and b\n",
    "            dw = 2 * self.C * self.w - np.dot(X[misclassified].T, y_[misclassified]) / n_samples\n",
    "            db = -np.sum(y_[misclassified]) / n_samples\n",
    "\n",
    "            # Parameter update\n",
    "            self.w -= self.lr * dw\n",
    "            self.b -= self.lr * db\n",
    "\n",
    "\n",
    "\n",
    "    def predict(self, X):\n",
    "        # X is a numpy array n_examples * n_features\n",
    "        # self.W is n_features * 1\n",
    "        return np.sign (np.dot(X,self.w)+ self.b)"
   ]
  },
  {
   "cell_type": "code",
   "execution_count": 23,
   "id": "8883a4a6-9382-4d17-8bcf-62bdab842390",
   "metadata": {},
   "outputs": [
    {
     "name": "stdout",
     "output_type": "stream",
     "text": [
      "Train Accuracy: 0.7893\n",
      "Test Accuracy: 0.7765\n"
     ]
    }
   ],
   "source": [
    "# Train the model\n",
    "a = SVM(n_iters=20000)\n",
    "\n",
    "a.fit(X_train_scaled, y_train)\n",
    "# ----------------------------\n",
    "# Predictions\n",
    "# ----------------------------\n",
    "# Convert back to {0, 1} for sklearn metrics\n",
    "y_train_pred = np.where(a.predict(X_train_scaled) == -1, 0, 1)\n",
    "y_test_pred = np.where(a.predict(X_test_scaled) == -1, 0, 1)\n",
    "# ----------------------------\n",
    "# Evaluate accuracy\n",
    "# ----------------------------\n",
    "train_acc = accuracy_score(y_train, y_train_pred)\n",
    "test_acc = accuracy_score(y_test, y_test_pred)\n",
    "\n",
    "print(f\"Train Accuracy: {train_acc:.4f}\")\n",
    "print(f\"Test Accuracy: {test_acc:.4f}\")\n"
   ]
  },
  {
   "cell_type": "code",
   "execution_count": 20,
   "id": "9ca7b01c-f2e0-4325-b746-792ef83ea451",
   "metadata": {},
   "outputs": [
    {
     "data": {
      "text/plain": [
       "array([-0.29042782])"
      ]
     },
     "execution_count": 20,
     "metadata": {},
     "output_type": "execute_result"
    }
   ],
   "source": [
    "a.b"
   ]
  },
  {
   "cell_type": "code",
   "execution_count": 21,
   "id": "36f25fa0-cf9e-4770-a9cd-a3f7a71be19d",
   "metadata": {},
   "outputs": [
    {
     "data": {
      "text/plain": [
       "array([-0.00251015, -0.00369913, -0.00231407, -0.0006387 ,  0.00101648,\n",
       "        0.00250444,  0.47768288, -0.47768288, -0.00080539,  0.00069612,\n",
       "       -0.00273686])"
      ]
     },
     "execution_count": 21,
     "metadata": {},
     "output_type": "execute_result"
    }
   ],
   "source": [
    "a.w"
   ]
  },
  {
   "cell_type": "code",
   "execution_count": null,
   "id": "55334b24-09f2-4f71-b97b-6a40b3eeb77b",
   "metadata": {},
   "outputs": [],
   "source": []
  }
 ],
 "metadata": {
  "kernelspec": {
   "display_name": "Python (microsoft_prep_venv)",
   "language": "python",
   "name": "microsoft_prep_venv"
  },
  "language_info": {
   "codemirror_mode": {
    "name": "ipython",
    "version": 3
   },
   "file_extension": ".py",
   "mimetype": "text/x-python",
   "name": "python",
   "nbconvert_exporter": "python",
   "pygments_lexer": "ipython3",
   "version": "3.10.8"
  }
 },
 "nbformat": 4,
 "nbformat_minor": 5
}
