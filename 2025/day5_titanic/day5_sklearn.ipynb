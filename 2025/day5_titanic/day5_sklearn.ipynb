{
 "cells": [
  {
   "cell_type": "code",
   "execution_count": null,
   "id": "0",
   "metadata": {},
   "outputs": [],
   "source": [
    "import pandas as pd\n",
    "import matplotlib.pyplot as plt\n",
    "import seaborn as sns\n",
    "\n",
    "# Load dataset\n",
    "df = pd.read_csv(\"train.csv\")\n",
    "\n",
    "# First look\n",
    "print(df.head())\n"
   ]
  },
  {
   "cell_type": "code",
   "execution_count": null,
   "id": "1",
   "metadata": {},
   "outputs": [],
   "source": [
    "print(df.info())\n"
   ]
  },
  {
   "cell_type": "code",
   "execution_count": null,
   "id": "2",
   "metadata": {},
   "outputs": [],
   "source": [
    "print(df.describe())\n"
   ]
  },
  {
   "cell_type": "code",
   "execution_count": null,
   "id": "3",
   "metadata": {},
   "outputs": [],
   "source": [
    "sns.countplot(x='Survived', data=df)\n",
    "plt.show()"
   ]
  },
  {
   "cell_type": "code",
   "execution_count": null,
   "id": "4",
   "metadata": {},
   "outputs": [],
   "source": [
    "# Survival by Sex\n",
    "sns.countplot(x='Survived', hue='Sex', data=df)\n",
    "plt.title(\"Survival by Sex\")\n",
    "plt.show()\n"
   ]
  },
  {
   "cell_type": "code",
   "execution_count": null,
   "id": "5",
   "metadata": {},
   "outputs": [],
   "source": [
    "# Survival by Pclass\n",
    "sns.countplot(x='Survived', hue='Pclass', data=df)\n",
    "plt.title(\"Survival by Passenger Class\")\n",
    "plt.show()\n"
   ]
  },
  {
   "cell_type": "code",
   "execution_count": null,
   "id": "6",
   "metadata": {},
   "outputs": [],
   "source": [
    "# Age distribution of survivors\n",
    "sns.histplot(df[df['Survived']==1]['Age'].dropna(), bins=30, color='green', kde=True)\n",
    "# kernel density estimate\n",
    "plt.title(\"Age Distribution of Survivors\")\n",
    "plt.show()"
   ]
  },
  {
   "cell_type": "code",
   "execution_count": null,
   "id": "7",
   "metadata": {},
   "outputs": [],
   "source": [
    "\n",
    "df['Age'].fillna(df['Age'].median(), inplace=True)\n",
    "# Since mode() returns a Series, [0] selects the first (and usually only) most frequent value.\n",
    "df['Embarked'].fillna(df['Embarked'].mode()[0], inplace=True)\n",
    "df['Sex'] = df['Sex'].map({'male': 0, 'female': 1})\n"
   ]
  },
  {
   "cell_type": "code",
   "execution_count": null,
   "id": "8",
   "metadata": {},
   "outputs": [],
   "source": [
    "df = pd.get_dummies(df, columns=['Embarked'], drop_first=True)"
   ]
  },
  {
   "cell_type": "markdown",
   "id": "9",
   "metadata": {},
   "source": [
    "Ah, great question! Let’s break it down **carefully**.\n",
    "\n",
    "```python\n",
    "df = pd.get_dummies(df, columns=['Embarked'], drop_first=True)\n",
    "```\n",
    "\n",
    "This line is doing **one-hot encoding** of the categorical column `Embarked`. Here’s what each part means:\n",
    "\n",
    "---\n",
    "\n",
    "### **1️⃣ `pd.get_dummies(df, columns=['Embarked'])`**\n",
    "\n",
    "* `pd.get_dummies()` converts **categorical variables** into **numeric dummy/indicator variables** (0 or 1), because most ML models in Scikit-Learn **cannot work with strings**.\n",
    "* Example: Suppose `Embarked` has values: `['C', 'Q', 'S']`.\n",
    "  After `get_dummies`, it becomes three new columns:\n",
    "\n",
    "| Embarked_C | Embarked_Q | Embarked_S |\n",
    "| ---------- | ---------- | ---------- |\n",
    "| 1          | 0          | 0          |\n",
    "| 0          | 1          | 0          |\n",
    "| 0          | 0          | 1          |\n",
    "\n",
    "---\n",
    "\n",
    "### **2️⃣ `drop_first=True`**\n",
    "\n",
    "* This **drops the first dummy column** to avoid **multicollinearity**.\n",
    "* Multicollinearity is when one column can be perfectly predicted from the others — it can confuse models like **linear regression**.\n",
    "* After `drop_first=True`, the first column (`Embarked_C`) is dropped, and the table becomes:\n",
    "\n",
    "| Embarked_Q | Embarked_S |\n",
    "| ---------- | ---------- |\n",
    "| 0          | 0          |\n",
    "| 1          | 0          |\n",
    "| 0          | 1          |\n",
    "\n",
    "* **Interpretation:**\n",
    "\n",
    "  * If both `Embarked_Q` and `Embarked_S` are 0 → it must be `Embarked_C`.\n",
    "  * This keeps the information intact but avoids redundant columns.\n",
    "\n",
    "---\n",
    "\n",
    "### **3️⃣ `df =`**\n",
    "\n",
    "* This **assigns the new DataFrame** with the encoded columns back to `df`.\n",
    "\n",
    "---\n",
    "\n",
    "✅ **Summary:**\n",
    "This line converts the categorical `Embarked` column into numeric dummy variables for ML, while avoiding redundancy by dropping the first category.\n",
    "\n",
    "---\n",
    "\n",
    "If you want, I can **draw a small diagram showing how `get_dummies` works visually**—it makes it much easier to remember. Do you want me to do that?"
   ]
  },
  {
   "cell_type": "code",
   "execution_count": null,
   "id": "10",
   "metadata": {},
   "outputs": [],
   "source": [
    "df.head(1)"
   ]
  },
  {
   "cell_type": "code",
   "execution_count": null,
   "id": "11",
   "metadata": {},
   "outputs": [],
   "source": [
    "from sklearn.model_selection import train_test_split\n",
    "from sklearn.ensemble import RandomForestClassifier\n",
    "from sklearn.metrics import accuracy_score, confusion_matrix, classification_report\n",
    "\n",
    "# Features & target\n",
    "X = df[['Pclass','Sex','Age','SibSp','Parch','Fare','Embarked_Q','Embarked_S']]\n",
    "y = df['Survived']\n",
    "\n",
    "# Train/test split\n",
    "X_train, X_test, y_train, y_test = train_test_split(X, y, test_size=0.2, random_state=42)\n",
    "\n",
    "# Train model\n",
    "model = RandomForestClassifier(n_estimators=100, random_state=42)\n",
    "model.fit(X_train, y_train)\n",
    "\n",
    "# Predictions\n",
    "y_pred = model.predict(X_test)\n",
    "\n",
    "# Evaluation\n",
    "print(\"Accuracy:\", accuracy_score(y_test, y_pred))\n",
    "print(classification_report(y_test, y_pred))\n",
    "sns.heatmap(confusion_matrix(y_test, y_pred), annot=True, fmt='d', cmap='Blues')\n",
    "plt.show()\n"
   ]
  },
  {
   "cell_type": "code",
   "execution_count": null,
   "id": "12",
   "metadata": {},
   "outputs": [],
   "source": [
    "feat_importances = pd.Series(model.feature_importances_, index=X.columns)\n",
    "feat_importances.sort_values().plot(kind='barh')\n",
    "plt.title(\"Feature Importance\")\n",
    "plt.show()\n"
   ]
  },
  {
   "cell_type": "code",
   "execution_count": null,
   "id": "13",
   "metadata": {},
   "outputs": [],
   "source": []
  }
 ],
 "metadata": {
  "kernelspec": {
   "display_name": "Python (microsoft_prep_venv)",
   "language": "python",
   "name": "microsoft_prep_venv"
  },
  "language_info": {
   "codemirror_mode": {
    "name": "ipython",
    "version": 3
   },
   "file_extension": ".py",
   "mimetype": "text/x-python",
   "name": "python",
   "nbconvert_exporter": "python",
   "pygments_lexer": "ipython3",
   "version": "3.10.8"
  }
 },
 "nbformat": 4,
 "nbformat_minor": 5
}
